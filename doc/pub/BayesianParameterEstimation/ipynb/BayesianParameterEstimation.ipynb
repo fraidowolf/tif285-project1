{
 "cells": [
  {
   "cell_type": "markdown",
   "metadata": {},
   "source": [
    "<!-- dom:TITLE: Learning from data: Bayesian Parameter Estimation -->\n",
    "# Learning from data: Bayesian Parameter Estimation\n",
    "<!-- dom:AUTHOR: Christian Forssén at Department of Physics, Chalmers University of Technology, Sweden -->\n",
    "<!-- Author: -->  \n",
    "**Christian Forssén**, Department of Physics, Chalmers University of Technology, Sweden\n",
    "\n",
    "Date: **Sep 16, 2019**\n",
    "\n",
    "Copyright 2018-2019, Christian Forssén. Released under CC Attribution-NonCommercial 4.0 license\n",
    "\n",
    "\n",
    "\n",
    "\n",
    "<!-- dom:FIGURE:[fig/m1m2.png, width=400 frac=0.8] Joint pdf for the masses of two black holes merging obtained from the data analysis of a gravitational wave signal. This representation of a joint pdf is known as a corner plot. <div id=\"fig:gw\"></div> -->\n",
    "<!-- begin figure -->\n",
    "<div id=\"fig:gw\"></div>\n",
    "\n",
    "<p>Joint pdf for the masses of two black holes merging obtained from the data analysis of a gravitational wave signal. This representation of a joint pdf is known as a corner plot.</p>\n",
    "<img src=\"fig/m1m2.png\" width=400>\n",
    "\n",
    "<!-- end figure -->\n",
    "\n",
    "\n",
    "# Inference With Parametric Models\n",
    "Inductive inference with parametric models is a very important tool in the natural sciences.\n",
    "* Consider $N$ different models $M_i$ ($i = 1, \\ldots, N$), each with parameters $\\boldsymbol{\\theta}_i$. Each of them implies a sampling distribution for possible data"
   ]
  },
  {
   "cell_type": "markdown",
   "metadata": {},
   "source": [
    "$$\n",
    "p(D|\\boldsymbol{\\theta}_i, M_i)\n",
    "$$"
   ]
  },
  {
   "cell_type": "markdown",
   "metadata": {},
   "source": [
    "* The likelihood function is the pdf of the actual, observed data ($D_\\mathrm{obs}$) given a set of parameters $\\boldsymbol{\\theta}_i$:"
   ]
  },
  {
   "cell_type": "markdown",
   "metadata": {},
   "source": [
    "$$\n",
    "\\mathcal{L}_i (\\boldsymbol{\\theta}_i) \\equiv p(D_\\mathrm{obs}|\\boldsymbol{\\theta}_i, M_i)\n",
    "$$"
   ]
  },
  {
   "cell_type": "markdown",
   "metadata": {},
   "source": [
    "* We may be uncertain about $M_i$ (model uncertainty),\n",
    "\n",
    "* or uncertain about $\\boldsymbol{\\theta}_i$ (parameter uncertainty).\n",
    "\n",
    "\n",
    "\n",
    "Parameter Estimation:\n",
    "  :    \n",
    "  Premise = We have chosen a model (say $M_1$)\n",
    "  $\\Rightarrow$ What can we say about its parameters $\\boldsymbol{\\theta}_1$?\n",
    "\n",
    "Model comparison:\n",
    "  :    \n",
    "  Premise = We have a set of different models $\\{M_i\\}$\n",
    "  $\\Rightarrow$ How do they compare with each other? Do we have evidence to say that, e.g. $M_1$, is better than the other models?\n",
    "\n",
    "Model adequacy:\n",
    "  :    \n",
    "  Premise = We have a model $M_1$\n",
    "  $\\Rightarrow$ Is $M_1$ adequate?\n",
    "\n",
    "Hybrid Uncertainty:\n",
    "  :    \n",
    "  Models share some common params: $\\boldsymbol{\\theta}_i = \\{ \\boldsymbol{\\varphi}, \\boldsymbol{\\eta}_i\\}$\n",
    "  $\\Rightarrow$ What can we say about $\\boldsymbol{\\varphi}$? (Systematic error is an example)\n",
    "\n",
    "\n",
    "\n",
    "## Parameter estimation\n",
    "Overview comments:\n",
    "* In general terms, \"parameter estimation\" in physics means obtaining values for parameters (constants) that appear in a theoretical model which describes data (exceptions to this general definition exist of course).\n",
    "\n",
    "* Conventionally this process is known as \"parameter fitting\" and the goal is to find the \"best fit\".\n",
    "\n",
    "* We will make particular interpretations of these phrases from our Bayesian point of view.\n",
    "\n",
    "* We will also see how familiar ideas like \"least-squares optimization\" show up from a Bayesian perspective.\n",
    "\n",
    "\n",
    "\n",
    "\n",
    "## Bayesian parameter estimation\n",
    "We will now consider the very important task of model parameter estimation using statistical inference. \n",
    "\n",
    "Let us first remind ourselves what can go wrong in a fit. We have encountered both **underfitting** (model is not complex enough to describe the variability in the data) and **overfitting** (model tunes to data fluctuations, or terms are underdetermined causing them playing off each other). Bayesian methods can prevent/identify both these situations.\n",
    "\n",
    "\n",
    "\n",
    "<!-- ===== Example: Measured flux from a star (single parameter) ===== -->\n",
    "# Example: Measured flux from a star (single parameter)\n",
    "Adapted from the blog [Pythonic Perambulations](http://jakevdp.github.io) by Jake VanderPlas.\n",
    "\n",
    "Imagine that we point our telescope to the sky, and observe the light coming from a single star. Our physics model will be that the star's true flux is constant with time, i.e. that  it has a fixed value $F_\\mathrm{true}$ (we'll also ignore effects like sky noise and other sources of systematic error). Thus, we have a single model parameter: $F_\\mathrm{true}$.\n",
    "\n",
    "We'll assume that we perform a series of $N$ measurements with our telescope, where the i:th measurement reports an observed photon flux $F_i$ and is accompanied by an error model given by $e_i$[^errors].\n",
    "The question is, given this set of measurements $D = \\{F_i\\}_{i=0}^{N-1}$, and the statistical model $F_i = F_\\mathrm{true} + e_i$, what is our best estimate of the true flux $F_\\mathrm{true}$?\n",
    "\n",
    "[^errors]: We'll make the reasonable assumption that errors are Gaussian. In a Frequentist perspective, $e_i$ is the standard deviation of the results of a single measurement event in the limit of repetitions of *that event*. In the Bayesian perspective, $e_i$ is the standard deviation of the (Gaussian) probability distribution describing our knowledge of that particular measurement given its observed value.\n",
    "\n",
    "Because the measurements are number counts, a Poisson distribution is a good approximation to the measurement process:"
   ]
  },
  {
   "cell_type": "code",
   "execution_count": 1,
   "metadata": {
    "collapsed": false
   },
   "outputs": [],
   "source": [
    "%matplotlib inline\n",
    "\n",
    "import numpy as np\n",
    "from scipy import stats\n",
    "import matplotlib.pyplot as plt\n",
    "import emcee"
   ]
  },
  {
   "cell_type": "code",
   "execution_count": 2,
   "metadata": {
    "collapsed": false
   },
   "outputs": [],
   "source": [
    "np.random.seed(1)      # for repeatability\n",
    "F_true = 1000          # true flux, say number of photons measured in 1 second\n",
    "N = 50                 # number of measurements\n",
    "F = stats.poisson(F_true).rvs(N)\n",
    "                       # N measurements of the flux\n",
    "e = np.sqrt(F)         # errors on Poisson counts estimated via square root"
   ]
  },
  {
   "cell_type": "markdown",
   "metadata": {},
   "source": [
    "Now let's make a simple visualization of the \"observed\" data, see Fig. [fig:flux](#fig:flux)."
   ]
  },
  {
   "cell_type": "code",
   "execution_count": 3,
   "metadata": {
    "collapsed": false
   },
   "outputs": [],
   "source": [
    "fig, ax = plt.subplots()\n",
    "ax.errorbar(F, np.arange(N), xerr=e, fmt='ok', ecolor='gray', alpha=0.5)\n",
    "ax.vlines([F_true], 0, N, linewidth=5, alpha=0.2)\n",
    "ax.set_xlabel(\"Flux\");ax.set_ylabel(\"measurement number\");"
   ]
  },
  {
   "cell_type": "markdown",
   "metadata": {},
   "source": [
    "<!-- dom:FIGURE:[fig/singlephotoncount_fig_1.png, width=400 frac=0.8] Single photon counts (flux measurements). <div id=\"fig:flux\"></div> -->\n",
    "<!-- begin figure -->\n",
    "<div id=\"fig:flux\"></div>\n",
    "\n",
    "<p>Single photon counts (flux measurements).</p>\n",
    "<img src=\"fig/singlephotoncount_fig_1.png\" width=400>\n",
    "\n",
    "<!-- end figure -->\n",
    "\n",
    "\n",
    "These measurements each have a different error $e_i$ which is estimated from Poisson statistics using the standard square-root rule. In this toy example we know the true flux that was used to generate the data, but the question is this: given our measurements and statistical model, what is our best estimate of $F_\\mathrm{true}$?\n",
    "\n",
    "Let's take a look at the frequentist and Bayesian approaches to solving this.\n",
    "\n",
    "### Simple Photon Counts: Frequentist Approach\n",
    "\n",
    "We'll start with the classical frequentist maximum likelihood approach. Given a single observation $D_i = F_i$, we can compute the probability distribution of the measurement given the true flux $F_\\mathrm{true}$ given our assumption of Gaussian errors"
   ]
  },
  {
   "cell_type": "markdown",
   "metadata": {},
   "source": [
    "<!-- Equation labels as ordinary links -->\n",
    "<div id=\"_auto1\"></div>\n",
    "\n",
    "$$\n",
    "\\begin{equation}\n",
    "p(D_i | F_\\mathrm{true}, I) = \\frac{1}{\\sqrt{2\\pi e_i^2}} \\exp \\left( \\frac{-(F_i-F_\\mathrm{true})^2}{2e_i^2} \\right).\n",
    "\\label{_auto1} \\tag{1}\n",
    "\\end{equation}\n",
    "$$"
   ]
  },
  {
   "cell_type": "markdown",
   "metadata": {},
   "source": [
    "This should be read \"the probability of $D_i$ given $F_\\mathrm{true}$\n",
    "equals ...\". You should recognize this as a normal distribution with mean $F_\\mathrm{true}$ and standard deviation $e_i$.\n",
    "\n",
    "We construct the *likelihood function* by computing the product of the probabilities for each data point"
   ]
  },
  {
   "cell_type": "markdown",
   "metadata": {},
   "source": [
    "<!-- Equation labels as ordinary links -->\n",
    "<div id=\"_auto2\"></div>\n",
    "\n",
    "$$\n",
    "\\begin{equation}\n",
    "\\mathcal{L}(F_\\mathrm{true}) = \\prod_{i=1}^N p(D_i | F_\\mathrm{true}, I),\n",
    "\\label{_auto2} \\tag{2}\n",
    "\\end{equation}\n",
    "$$"
   ]
  },
  {
   "cell_type": "markdown",
   "metadata": {},
   "source": [
    "here $D = \\{D_i\\}$ represents the entire set of measurements. Because the value of the likelihood can become very small, it is often more convenient to instead compute the log-likelihood. \n",
    "\n",
    "**Notice.**\n",
    "\n",
    "In the following we will use $\\log$ to denote the natural logarithm. We will write $\\log_{10}$ if we specifically mean the logarithm with base 10.\n",
    "\n",
    "\n",
    "\n",
    "Combining the previous two equations and computing the log, we have"
   ]
  },
  {
   "cell_type": "markdown",
   "metadata": {},
   "source": [
    "<!-- Equation labels as ordinary links -->\n",
    "<div id=\"_auto3\"></div>\n",
    "\n",
    "$$\n",
    "\\begin{equation}\n",
    "\\log\\mathcal{L} = -\\frac{1}{2} \\sum_{i=1}^N \\left[ \\log(2\\pi e_i^2) +  \\frac{(F_i-F_\\mathrm{true})^2}{e_i^2} \\right].\n",
    "\\label{_auto3} \\tag{3}\n",
    "\\end{equation}\n",
    "$$"
   ]
  },
  {
   "cell_type": "markdown",
   "metadata": {},
   "source": [
    "What we'd like to do is determine $F_\\mathrm{true}$ such that the likelihood is maximized. At this pont we can note that that problem of maximizing the likelihood is equivalent to the minimization of the sum"
   ]
  },
  {
   "cell_type": "markdown",
   "metadata": {},
   "source": [
    "<!-- Equation labels as ordinary links -->\n",
    "<div id=\"_auto4\"></div>\n",
    "\n",
    "$$\n",
    "\\begin{equation}\n",
    "\\sum_{i=1}^N \\frac{(F_i-F_\\mathrm{true})^2}{e_i^2},\n",
    "\\label{_auto4} \\tag{4}\n",
    "\\end{equation}\n",
    "$$"
   ]
  },
  {
   "cell_type": "markdown",
   "metadata": {},
   "source": [
    "which you should recognize as the chi-squared function encountered in the linear regression model.\n",
    "\n",
    "Therefore, it is not surprising that this particular maximization problem can be solved analytically (i.e. by setting $d\\log\\mathcal{L}/d F_\\mathrm{true} = 0$). This results in the following observed estimate of $F_\\mathrm{true}$"
   ]
  },
  {
   "cell_type": "markdown",
   "metadata": {},
   "source": [
    "<!-- Equation labels as ordinary links -->\n",
    "<div id=\"_auto5\"></div>\n",
    "\n",
    "$$\n",
    "\\begin{equation}\n",
    "F_\\mathrm{est} = \\frac{ \\sum_{i=1}^N w_i F_i }{ \\sum_{i=1}^N w_i}, \\quad w_i = 1/e_i^2.\n",
    "\\label{_auto5} \\tag{5}\n",
    "\\end{equation}\n",
    "$$"
   ]
  },
  {
   "cell_type": "markdown",
   "metadata": {},
   "source": [
    "Notice that in the special case of all errors $e_i$ being equal, this reduces to"
   ]
  },
  {
   "cell_type": "markdown",
   "metadata": {},
   "source": [
    "<!-- Equation labels as ordinary links -->\n",
    "<div id=\"_auto6\"></div>\n",
    "\n",
    "$$\n",
    "\\begin{equation}\n",
    "F_\\mathrm{est} = \\frac{1}{N} \\sum_{i=1} F_i.\n",
    "\\label{_auto6} \\tag{6}\n",
    "\\end{equation}\n",
    "$$"
   ]
  },
  {
   "cell_type": "markdown",
   "metadata": {},
   "source": [
    "That is, in agreement with intuition, $F_\\mathrm{est}$ is simply the mean of the observed data when errors are equal.\n",
    "\n",
    "We can go further and ask what the error of our estimate is. In the frequentist approach, this can be accomplished by fitting a Gaussian approximation to the likelihood curve at maximum; in this simple case this can also be solved analytically (the sum of Gaussians is also a Gaussian). It can be shown that the standard deviation of this Gaussian approximation is $\\sigma_\\mathrm{est}$, which is given by"
   ]
  },
  {
   "cell_type": "markdown",
   "metadata": {},
   "source": [
    "<!-- Equation labels as ordinary links -->\n",
    "<div id=\"_auto7\"></div>\n",
    "\n",
    "$$\n",
    "\\begin{equation}\n",
    "\\frac{ 1 } {\\sigma_\\mathrm{est}^2} = \\sum_{i=1}^N w_i .\n",
    "\\label{_auto7} \\tag{7}\n",
    "\\end{equation}\n",
    "$$"
   ]
  },
  {
   "cell_type": "markdown",
   "metadata": {},
   "source": [
    "These results are fairly simple calculations; let's evaluate them for our toy dataset:"
   ]
  },
  {
   "cell_type": "code",
   "execution_count": 4,
   "metadata": {
    "collapsed": false
   },
   "outputs": [],
   "source": [
    "w=1./e**2\n",
    "print(f\"\"\"\n",
    "F_true = {F_true}\n",
    "F_est = {(w * F).sum() / w.sum():.0f} +/- { w.sum() ** -0.5:.0f} (based on {N} measurements) \"\"\")"
   ]
  },
  {
   "cell_type": "markdown",
   "metadata": {},
   "source": [
    "`F_true = 1000` \n",
    "`F_est = 998 +/- 4 (based on 50 measurements)` \n",
    "\n",
    "We find that for 50 measurements of the flux, our estimate has an error of about 0.4% and is consistent with the input value.\n",
    "\n",
    "\n",
    "### Simple Photon Counts: Bayesian Approach\n",
    "\n",
    "The Bayesian approach, as you might expect, begins and ends with probabilities. Our hypothesis is that the star has a constant flux $F_\\mathrm{true}$. It recognizes that what we fundamentally want to compute is our knowledge of the parameter in question given the data and other information (such as our knowledge of uncertainties for the observed values), i.e. in this case, $p(F_\\mathrm{true} | D,I)$.\n",
    "Note that this formulation of the problem is fundamentally contrary to the frequentist philosophy, which says that probabilities have no meaning for model parameters like $F_\\mathrm{true}$. Nevertheless, within the Bayesian philosophy this is perfectly acceptable.\n",
    "\n",
    "To compute this pdf, Bayesians next apply Bayes' Theorem.\n",
    "If we set the prior $p(F_\\mathrm{true}|I) \\propto 1$ (a flat prior), we find\n",
    "$p(F_\\mathrm{true}|D,I) \\propto p(D | F_\\mathrm{true},I) \\equiv \\mathcal{L}(F_\\mathrm{true})$\n",
    "and the Bayesian probability is maximized at precisely the same value as the frequentist result! So despite the philosophical differences, we see that (for this simple problem at least) the Bayesian and frequentist point estimates are equivalent.\n",
    "\n",
    "### A note about priors\n",
    "\n",
    "The prior allows inclusion of other information into the computation, which becomes very useful in cases where multiple measurement strategies are being combined to constrain a single model. The necessity to specify a prior, however, is one of the more controversial pieces of Bayesian analysis.\n",
    "A frequentist will point out that the prior is problematic when no true prior information is available. Though it might seem straightforward to use a noninformative prior like the flat prior mentioned above, there are some [surprisingly subtleties](http://normaldeviate.wordpress.com/2013/07/13/lost-causes-in-statistics-ii-noninformative- priors/comment-page-1/) involved. It turns out that in many situations, a truly noninformative prior does not exist! Frequentists point out that the subjective choice of a prior which necessarily biases your result has no place in statistical data analysis.\n",
    "A Bayesian would counter that frequentism doesn't solve this problem, but simply skirts the question. Frequentism can often be viewed as simply a special case of the Bayesian approach for some (implicit) choice of the prior: a Bayesian would say that it's better to make this implicit choice explicit, even if the choice might include some subjectivity.\n",
    "\n",
    "### Simple Photon Counts: Bayesian approach in practice\n",
    "\n",
    "Leaving these philosophical debates aside for the time being, let's address how Bayesian results are generally computed in practice. For a one parameter problem like the one considered here, it's as simple as computing the posterior probability $p(F_\\mathrm{true} | D,I)$ as a function of $F_\\mathrm{true}$: this is the distribution reflecting our knowledge of the parameter $F_\\mathrm{true}$.\n",
    "But as the dimension of the model grows, this direct approach becomes increasingly intractable. For this reason, Bayesian calculations often depend on sampling methods such as Markov Chain Monte Carlo (MCMC). For this practical example, let us apply an MCMC approach using Dan Foreman-Mackey's [emcee](http://dan.iel.fm/emcee/current/) package. Keep in mind here that the goal is to generate a set of points drawn from the posterior probability distribution, and to use those points to determine the answer we seek.\n",
    "To perform this MCMC, we start by defining Python functions for the prior $p(F_\\mathrm{true} | I)$, the likelihood $p(D | F_\\mathrm{true},I)$, and the posterior $p(F_\\mathrm{true} | D,I)$, noting that none of these need be properly normalized. Our model here is one-dimensional, but to handle multi-dimensional models we'll define the model in terms of an array of parameters $\\boldsymbol{\\theta}$, which in this case is $\\boldsymbol{\\theta} = [F_\\mathrm{true}]$"
   ]
  },
  {
   "cell_type": "code",
   "execution_count": 5,
   "metadata": {
    "collapsed": false
   },
   "outputs": [],
   "source": [
    "def log_prior(theta):\n",
    "    if theta>0 and theta<10000:\n",
    "        return 0 # flat prior\n",
    "    else:\n",
    "        return -np.inf\n",
    "\n",
    "def log_likelihood(theta, F, e):\n",
    "    return -0.5 * np.sum(np.log(2 * np.pi * e ** 2) \\\n",
    "                             + (F - theta[0]) ** 2 / e ** 2)\n",
    "                             \n",
    "def log_posterior(theta, F, e):\n",
    "    return log_prior(theta) + log_likelihood(theta, F, e)"
   ]
  },
  {
   "cell_type": "markdown",
   "metadata": {},
   "source": [
    "Now we set up the problem, including generating some random starting guesses for the multiple chains of points."
   ]
  },
  {
   "cell_type": "code",
   "execution_count": 6,
   "metadata": {
    "collapsed": false
   },
   "outputs": [],
   "source": [
    "ndim = 1      # number of parameters in the model\n",
    "nwalkers = 50 # number of MCMC walkers\n",
    "nwarm = 1000  # \"warm-up\" period to let chains stabilize\n",
    "nsteps = 2000 # number of MCMC steps to take\n",
    "# we'll start at random locations between 0 and 2000\n",
    "starting_guesses = 2000 * np.random.rand(nwalkers, ndim)\n",
    "sampler = emcee.EnsembleSampler(nwalkers, ndim, log_posterior, args=[F,e])\n",
    "sampler.run_mcmc(starting_guesses, nsteps)\n",
    "# Shape of sampler.chain  = (nwalkers, nsteps, ndim)\n",
    "# Flatten the sampler chain and discard warm-in points:\n",
    "samples = sampler.chain[:, nwarm:, :].reshape((-1, ndim))"
   ]
  },
  {
   "cell_type": "markdown",
   "metadata": {},
   "source": [
    "If this all worked correctly, the array sample should contain a series of 50,000 points drawn from the posterior. Let's plot them and check. See results in Fig. [fig:flux-bayesian](#fig:flux-bayesian)."
   ]
  },
  {
   "cell_type": "code",
   "execution_count": 7,
   "metadata": {
    "collapsed": false
   },
   "outputs": [],
   "source": [
    "fig, ax = plt.subplots()\n",
    "ax.hist(samples, bins=50, histtype=\"stepfilled\", alpha=0.3, density=True)\n",
    "ax.set_xlabel(r'$F_\\mathrm{est}$')\n",
    "ax.set_ylabel(r'$p(F_\\mathrm{est}|D,I)$');"
   ]
  },
  {
   "cell_type": "markdown",
   "metadata": {},
   "source": [
    "<!-- dom:FIGURE:[fig/singlephotoncount_fig_2.png, width=400 frac=0.8] Bayesian posterior pdf (represented by a histogram of MCMC samples) from flux measurements. <div id=\"fig:flux-bayesian\"></div> -->\n",
    "<!-- begin figure -->\n",
    "<div id=\"fig:flux-bayesian\"></div>\n",
    "\n",
    "<p>Bayesian posterior pdf (represented by a histogram of MCMC samples) from flux measurements.</p>\n",
    "<img src=\"fig/singlephotoncount_fig_2.png\" width=400>\n",
    "\n",
    "<!-- end figure -->\n",
    "\n",
    "\n",
    "## Aside: Best estimates and confidence intervals\n",
    "The posterior distribution from our Bayesian data analysis is the key quantity that encodes our inference about the values of the model parameters, given the data and the relevant background information. Often, however, we wish to summarize this result with just a few numbers: the best estimate and a measure of its reliability. \n",
    "\n",
    "There are a few different options for this. The choice of the most appropriate one depends mainly on the shape of the posterior distribution:\n",
    "\n",
    "### Symmetric posterior pdfs\n",
    "\n",
    "Since the probability (density) associated with any particular value of the parameter is a measure of how much we believe that it lies in the neighbourhood of that point, our best estimate is given by the maximum of the posterior pdf. If we denote the quantity of interest by $\\theta$, with a posterior pdf $P =p(\\theta|D,I)$, then the best estimate of its value $\\theta_0$ is given by the condition $dP/d\\theta|_{\\theta=\\theta_0}=0$. Strictly speaking, we should also check the sign of the second derivative to ensure that $\\theta_0$ represents a maximum.\n",
    "\n",
    "To obtain a measure of the reliability of this best estimate, we need to look at the width or spread of the posterior pdf about $\\theta_0$. When considering the behaviour of any function in the neighbourhood of a particular point, it is often helpful to carry out a Taylor series expansion; this is simply a standard tool for (locally) approximating a complicated function by a low-order polynomial. The linear term is zero at the maximum and the quadratic term is often the dominating one determining the width of the posterior pdf. Ignoring all the higher-order terms we arrive at the Gaussian approximation (see more details below)"
   ]
  },
  {
   "cell_type": "markdown",
   "metadata": {},
   "source": [
    "<!-- Equation labels as ordinary links -->\n",
    "<div id=\"_auto8\"></div>\n",
    "\n",
    "$$\n",
    "\\begin{equation}\n",
    "p(\\theta|D,I) \\approx \\frac{1}{\\sigma\\sqrt{2\\pi}} \\exp \\left[ -\\frac{(\\theta-\\mu)^2}{2\\sigma^2} \\right],\n",
    "\\label{_auto8} \\tag{8}\n",
    "\\end{equation}\n",
    "$$"
   ]
  },
  {
   "cell_type": "markdown",
   "metadata": {},
   "source": [
    "where the mean $\\mu = \\theta_0$ and the variance $\\sigma = \\left( - \\left. \\frac{d^2L}{d\\theta^2} \\right|_{\\theta_0} \\right)^{-1/2}$, where $L$ is the logarithm of the posterior $P$. Our inference about the quantity of interest is conveyed very concisely, therefore, by the 67% Bayesian confidence interval $\\theta = \\theta_0 \\pm \\sigma$, and"
   ]
  },
  {
   "cell_type": "markdown",
   "metadata": {},
   "source": [
    "$$\n",
    "p(\\theta_0-\\sigma < \\theta < \\theta_0+\\sigma | D,I) = \\int_{\\theta_0-\\sigma}^{\\theta_0+\\sigma} p(\\theta|D,I) d\\theta \\approx 0.67.\n",
    "$$"
   ]
  },
  {
   "cell_type": "markdown",
   "metadata": {},
   "source": [
    "### Asymmetric posterior pdfs\n",
    "\n",
    "While the maximum of the posterior ($\\theta_0$) can still be regarded as giving the best estimate, the true value is now more likely to be on one side of this rather than the other. Alternatively one can compute the mean value, $\\langle \\theta \\rangle = \\int \\theta p(\\theta|D,I) d\\theta$, although this tends to overemphasise very long tails. The best option is probably a compromise that can be employed when having access to a large sample from the posterior (as provided by an MCMC), namely to give the median of this ensemble.\n",
    "\n",
    "Furthermore, the concept of an error-bar does not seem appropriate in this case, as it implicitly entails the idea of symmetry. A good way of expressing the reliability with which a parameter can be inferred, for an asymmetric posterior pdf, is rather through a *confidence interval*. Since the area under the posterior pdf between $\\theta_1$ and $\\theta_2$ is proportional to how much we believe that $\\theta$ lies in that range, the shortest interval that encloses 67% of the area represents a sensible measure of the uncertainty of the estimate. Obviously we can choose to provide some other degree-of-belief that we think is relevant for the case at hand. Assuming that the posterior pdf has been normalized, to have unit area, we need to find $\\theta_1$ and $\\theta_2$ such that:"
   ]
  },
  {
   "cell_type": "markdown",
   "metadata": {},
   "source": [
    "$$\n",
    "p(\\theta_1 < \\theta < \\theta_2 | D,I) = \\int_{\\theta_1}^{\\theta_2} p(\\theta|D,I) d\\theta \\approx 0.67,\n",
    "$$"
   ]
  },
  {
   "cell_type": "markdown",
   "metadata": {},
   "source": [
    "where the difference $\\theta_2 - \\theta_1$ is as small as possible. The region $\\theta_1 < \\theta < \\theta_2$ is then called the shortest 67% confidence interval. \n",
    "\n",
    "### Multimodal posterior pdfs\n",
    "\n",
    "We can sometimes obtain posteriors which are multimodal; i.e. contains several disconnected regions with large probabilities. There is no difficulty when one of the maxima is very much larger than the others: we can simply ignore the subsidiary solutions, to a good approximation, and concentrate on the global maximum. The problem arises when there are several maxima of comparable magnitude. What do we now mean by a best estimate, and how should we quantify its reliability? The idea of a best estimate and an error-bar, or even a confidence interval, is merely an attempt to summarize the posterior with just two or three numbers; sometimes this just can’t be done, and so these concepts are not valid. For the bimodal case we might be able to characterize the posterior in terms of a few numbers: two best estimates and their associated error-bars, or disjoint confidence intervals. For a general multimodal pdf, the most honest thing we can do is just display the posterior itself.\n",
    "\n",
    "Two options for assigning credible intervals to asymmetric and multimodal pdfs:\n",
    "* Equal-tailed interval: the probability area above and below the interval are equal.\n",
    "\n",
    "* Highest posterior density (HPD) interval: The posterior density for any point within the interval is larger than the posterior density for any point outside the interval.\n",
    "\n",
    "\n",
    "\n",
    "\n",
    "### Different views on confidence intervals\n",
    "\n",
    "A Bayesian confidence interval, or credible interval, or degree-of-belief (DOB) interval is the following: Given this data and other information there is $d \\%$ probability that this interval contains the true value of the parameter. E.g. a 95% DOB interval implies that the Baysian data analyser would bet 20-to-1 that the true result is inside the interval.\n",
    "\n",
    "\n",
    "\n",
    "A frequentist 95% confidence interval should be understood as follows: \n",
    "\"There is a 95% probability that when I compute a confidence interval from data of this sort that he true value of the parameter will fall within the (hypothetical) space of observations\". So the parameter is fixed (no pdf) and the confidence interval is based on random sampling of data. \n",
    "\n",
    "Let's try again to understand this: If we make a large number of repeated samples, then 95% of the intervals extracted in this way will include the true value of the parameter.\n",
    "\n",
    "\n",
    "\n",
    "\n",
    "### Simple Photon Counts: Best estimates and confidence intervals\n",
    "\n",
    "To compute these numbers for our example, you would run:"
   ]
  },
  {
   "cell_type": "code",
   "execution_count": 8,
   "metadata": {
    "collapsed": false
   },
   "outputs": [],
   "source": [
    "sampper=np.percentile(samples, [2.5, 16.5, 50, 83.5, 97.5],axis=0).flatten()\n",
    "print(f\"\"\"\n",
    "F_true = {F_true}\n",
    "Based on {N} measurements the posterior point estimates are:\n",
    "...F_est = { np.mean(samples):.0f} +/- { np.std(samples):.0f}\n",
    "or using credibility intervals:\n",
    "...F_est = {sampper[2]:.0f}          (posterior median) \n",
    "...F_est in [{sampper[1]:.0f}, {sampper[3]:.0f}] (67% credibility interval) \n",
    "...F_est in [{sampper[0]:.0f}, {sampper[4]:.0f}] (95% credibility interval) \"\"\")"
   ]
  },
  {
   "cell_type": "markdown",
   "metadata": {},
   "source": [
    "`F_true = 1000` \n",
    "`Based on 50 measurements the posterior point estimates are:` \n",
    "`...F_est = 998 +/- 4` \n",
    "`or using credibility intervals:` \n",
    "`...F_est = 998          (posterior median)`  \n",
    "`...F_est in [993, 1002] (67% credibility interval)`  \n",
    "`...F_est in [989, 1006] (95% credibility interval)`  \n",
    "\n",
    "In this particular example, the posterior pdf is actually a Gaussian (since it is constructed as a product of Gaussians), and the mean and variance from the quadratic approximation will agree exactly with the frequentist approach.\n",
    "\n",
    "From this final result you might come away with the impression that the Bayesian method is unnecessarily complicated, and in this case it certainly is. Using an MCMC sampler to characterize a one-dimensional normal distribution is a bit like using the Death Star to destroy a beach ball, but we did this here because it demonstrates an approach that can scale to complicated posteriors in many, many dimensions, and can provide nice results in more complicated situations where an analytic likelihood approach is not possible.\n",
    "\n",
    "Furthermore, as data and models grow in complexity, the two approaches can diverge greatly. \n",
    "\n",
    "\n",
    "\n",
    "# Example: Gaussian noise and averages\n",
    "The example in the demonstration notebook is from Sivia's book. How do we infer the mean and standard deviation of a Gaussian distribution from $M$ measurements $D \\in \\{ x_k \\}_{k=0}^{M-1}$ that should be distributed according to a normal distribution $p( D | \\mu,\\sigma,I)$?\n",
    "\n",
    "Start from Bayes theorem"
   ]
  },
  {
   "cell_type": "markdown",
   "metadata": {},
   "source": [
    "$$\n",
    "p(\\mu,\\sigma | D, I) = \\frac{p(D|\\mu,\\sigma,I) p(\\mu,\\sigma|I)}{p(D|I)}\n",
    "$$"
   ]
  },
  {
   "cell_type": "markdown",
   "metadata": {},
   "source": [
    "* Remind yourself about the names of the different terms.\n",
    "\n",
    "* It should become intuitive what the different probabilities (pdfs) describe.\n",
    "\n",
    "* Bayes theorem tells you how to flip from (hard-to-compute) $p(\\mu,\\sigma | D, I) \\Leftrightarrow p(D|\\mu,\\sigma,I)$ (easier-to-compute).\n",
    "\n",
    "Aside on the denominator, which is known as the \"data probability\" or \"marginalized likelihood\" or \"evidence\". \n",
    "* With $\\theta$ denoting a general vector of parameters we must have"
   ]
  },
  {
   "cell_type": "markdown",
   "metadata": {},
   "source": [
    "$$\n",
    "p(D|I) = \\int d\\theta p(D|\\theta,I) p(\\theta|I).\n",
    "$$"
   ]
  },
  {
   "cell_type": "markdown",
   "metadata": {},
   "source": [
    "* This integration (or marginalization) over all parameters is often difficult to perform.\n",
    "\n",
    "* Fortunately, for **parameter estimation** we don't need $p(D|I)$ since it doesn't depend on $\\theta$. We usually only need relative probabilities, or we can determine the normalization $N$ after we have computed the unnormalized posterior"
   ]
  },
  {
   "cell_type": "markdown",
   "metadata": {},
   "source": [
    "$$\n",
    "p(\\theta | D,I) = \\frac{1}{N} p(D|\\theta,I) p(\\theta|I).\n",
    "$$"
   ]
  },
  {
   "cell_type": "markdown",
   "metadata": {},
   "source": [
    "If we use a uniform prior $p(\\theta | I ) \\propto 1$ (in a finite volume), then the posterior is proportional to the **likelihood**"
   ]
  },
  {
   "cell_type": "markdown",
   "metadata": {},
   "source": [
    "$$\n",
    "p(\\theta | D,I) \\propto p(D|\\theta,I) = \\mathcal{L}(\\theta)\n",
    "$$"
   ]
  },
  {
   "cell_type": "markdown",
   "metadata": {},
   "source": [
    "In this particular situation, the mode of the likelihood (which would correspond to the point estimate of maximum likelihood) is equivalent to the mode of the posterior pdf in the Bayesian analysis.\n",
    "\n",
    "The real use of the prior, however, is to include into the analysis any additional information that you might have. The prior statement makes such additional assumptions and information very explicit.\n",
    "\n",
    "But how do we actually compute the posterior in practice. Most often we won't be able to get an analytical expression, but we can sample the distribution using a method known as Markov Chain Monte Carlo (MCMC).\n",
    "\n",
    "# Example: Fitting a straight line\n",
    "The next example that we will study is the well known fit of a straight line.\n",
    "\n",
    "* Here the theoretical model is"
   ]
  },
  {
   "cell_type": "markdown",
   "metadata": {},
   "source": [
    "$$\n",
    "y_\\mathrm{th}(x; \\theta) = m x + b,\n",
    "$$"
   ]
  },
  {
   "cell_type": "markdown",
   "metadata": {},
   "source": [
    "with parameters $\\theta = [b,m]$.\n",
    "\n",
    "* The statistical model for the data is"
   ]
  },
  {
   "cell_type": "markdown",
   "metadata": {},
   "source": [
    "$$\n",
    "y_{\\mathrm{exp},i} = y_{\\mathrm{th},i} + \\delta y_{\\mathrm{exp},i},\n",
    "$$"
   ]
  },
  {
   "cell_type": "markdown",
   "metadata": {},
   "source": [
    "where we often assume that the experimental errors are independent and normally distributed so that"
   ]
  },
  {
   "cell_type": "markdown",
   "metadata": {},
   "source": [
    "$$\n",
    "y_i = \\mathcal{N} \\left( y_\\mathrm{th}(x_i; \\theta), e_i^2 \\right).\n",
    "$$"
   ]
  },
  {
   "cell_type": "markdown",
   "metadata": {},
   "source": [
    "* Is independent errors always a good approximation?\n",
    "\n",
    "* An even better statistical model for theoretical models with a quantified, finite resolution would be"
   ]
  },
  {
   "cell_type": "markdown",
   "metadata": {},
   "source": [
    "$$\n",
    "y_\\mathrm{exp} = y_\\mathrm{th} + \\delta y_\\mathrm{exp} + \\delta y_\\mathrm{th}.\n",
    "$$"
   ]
  },
  {
   "cell_type": "markdown",
   "metadata": {},
   "source": [
    "### Why normal distributions?\n",
    "\n",
    "Let us give a quick motivation why Gaussian distributions show up so often. Say that we have a pdf $p(\\theta | D,I)$. Our best estimate from this pdf will be $\\theta_0$ where"
   ]
  },
  {
   "cell_type": "markdown",
   "metadata": {},
   "source": [
    "$$\n",
    "\\left. \n",
    "\\frac{ \\partial p }{ \\partial \\theta }\n",
    "\\right|_{\\theta_0} = 0, \\qquad\n",
    "\\left. \\frac{ \\partial^2 p }{ \\partial \\theta^2 }\n",
    "\\right|_{\\theta_0} < 0.\n",
    "$$"
   ]
  },
  {
   "cell_type": "markdown",
   "metadata": {},
   "source": [
    "The distribution usually varies very rapidly so we study $L(\\theta) \\equiv \\log p$ instead.\n",
    "Near the peak, it behaves as"
   ]
  },
  {
   "cell_type": "markdown",
   "metadata": {},
   "source": [
    "$$\n",
    "L(\\theta) = L(\\theta_0) + \\frac{1}{2} \\left. \\frac{\\partial^2 L}{\\partial \\theta^2} \\right|_{\\theta_0} \\left( \\theta - \\theta_0 \\right)^2 + \\ldots,\n",
    "$$"
   ]
  },
  {
   "cell_type": "markdown",
   "metadata": {},
   "source": [
    "where the first-order term is zero since we are expanding around a maximum and $\\partial L / \\partial\\theta = 0$.\n",
    "\n",
    "If we neglect higher-order terms we find that"
   ]
  },
  {
   "cell_type": "markdown",
   "metadata": {},
   "source": [
    "$$\n",
    "p(\\theta|D,I) \\approx A \\exp \\left[ \\frac{1}{2} \\left. \\frac{\\partial^2 L}{\\partial \\theta^2} \\right|_{\\theta_0} \\left( \\theta - \\theta_0 \\right)^2  \\right],\n",
    "$$"
   ]
  },
  {
   "cell_type": "markdown",
   "metadata": {},
   "source": [
    "which is a Gaussian $\\mathcal{N}(\\mu,\\sigma^2)$ with"
   ]
  },
  {
   "cell_type": "markdown",
   "metadata": {},
   "source": [
    "$$\n",
    "\\mu = \\theta_0, \\qquad \\sigma^2 = \\left( - \\left. \\frac{\\partial^2 L}{\\partial \\theta^2} \\right|_{\\theta_0} \\right)^{-1/2}.\n",
    "$$"
   ]
  },
  {
   "cell_type": "markdown",
   "metadata": {},
   "source": [
    "## Correlations\n",
    "In the \"fitting a straight-line\" example you should find that the joint pdf for the slope and the intercept $[m, b]$ corresponds to a slanted ellipse. That result implies that the model parameters are **correlated**.\n",
    "\n",
    "* Try to understand the correlation that you find in this example.\n",
    "\n",
    "Let us explore correlations by studying the behavior of the pdf at the maximum.\n",
    "A Taylor expansion for a bivariate pdf $p(x,y)$ around the mode $(x_0,y_0)$ gives"
   ]
  },
  {
   "cell_type": "markdown",
   "metadata": {},
   "source": [
    "$$\n",
    "p(x,y) \\approx p(x_0,y_0) + \\frac{1}{2} \\begin{pmatrix} x-x_0 & y-y_0 \\end{pmatrix}\n",
    "H\n",
    "\\begin{pmatrix} x-x_0 \\\\ y-y_0 \\end{pmatrix},\n",
    "$$"
   ]
  },
  {
   "cell_type": "markdown",
   "metadata": {},
   "source": [
    "where $H$ is the symmetric Hessian matrix"
   ]
  },
  {
   "cell_type": "markdown",
   "metadata": {},
   "source": [
    "$$\n",
    "\\begin{pmatrix}\n",
    "A & C \\\\ C & B\n",
    "\\end{pmatrix},\n",
    "$$"
   ]
  },
  {
   "cell_type": "markdown",
   "metadata": {},
   "source": [
    "with elements"
   ]
  },
  {
   "cell_type": "markdown",
   "metadata": {},
   "source": [
    "$$\n",
    "A = \\left. \\frac{\\partial^2 p}{\\partial x^2} \\right|_{x_0,y_0}, \\quad\n",
    "B = \\left. \\frac{\\partial^2 p}{\\partial y^2} \\right|_{x_0,y_0}, \\quad\n",
    "C = \\left. \\frac{\\partial^2 p}{\\partial x \\partial y} \\right|_{x_0,y_0}.\n",
    "$$"
   ]
  },
  {
   "cell_type": "markdown",
   "metadata": {},
   "source": [
    "* So in this quadratic approximation the contour is an ellipse centered at $(x_0,y_0)$ with orientation and eccentricity determined by $A,B,C$.\n",
    "\n",
    "* The principal axes are found from the eigenvectors of $H$.\n",
    "\n",
    "* Depending on the skewness of the ellipse, the parameters are either (i) not correlated, (ii) correlated, or (iii) anti-correlated.\n",
    "\n",
    "* Take a minute to consider what that implies."
   ]
  }
 ],
 "metadata": {},
 "nbformat": 4,
 "nbformat_minor": 2
}
