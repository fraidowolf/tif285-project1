{
 "cells": [
  {
   "cell_type": "markdown",
   "metadata": {},
   "source": [
    "<!-- dom:TITLE: Learning from data: Error propagation and nuisance parameters -->\n",
    "# Learning from data: Error propagation and nuisance parameters\n",
    "<!-- dom:AUTHOR: Christian Forssén at Department of Physics, Chalmers University of Technology, Sweden -->\n",
    "<!-- Author: -->  \n",
    "**Christian Forssén**, Department of Physics, Chalmers University of Technology, Sweden\n",
    "\n",
    "Date: **Sep 24, 2019**\n",
    "\n",
    "Copyright 2018-2019, Christian Forssén. Released under CC Attribution-NonCommercial 4.0 license\n",
    "\n",
    "\n",
    "\n",
    "# Why Bayes is Better\n",
    "\n",
    "### Quotes from one pioneering and one renaissance Bayesian authority\n",
    "\n",
    "Laplace:\n",
    "> *\"Probability theory is nothing but common sense reduced to calculation.\"*\n",
    "\n",
    "\n",
    "\n",
    "\n",
    "\n",
    "Sivia\n",
    "> *\"Bayesian inference probabilities are a measure of our state of knowledge about nature, not a measure of nature itself.\"*\n",
    "\n",
    "\n",
    "\n",
    "\n",
    "\n",
    "## Advantages of the Bayesian approach\n",
    "1. Provides an elegantly simple and rational approach for answering, in an optimal way, any scientific question for a given state of information. This contrasts to the recipe or cookbook approach of conventional statistical analysis. The procedure is well-defined:\n",
    "\n",
    "  * Clearly state your question and prior information.\n",
    "\n",
    "  * Apply the sum and product rules. The starting point is always Bayes’ theorem.\n",
    "\n",
    "\n",
    "2. For some problems, a Bayesian analysis may simply lead to a familiar statistic. Even in this situation it often provides a powerful new insight concerning the interpretation of the statistic.\n",
    "\n",
    "3. Incorporates relevant prior (e.g., known signal model or known theory model expansion) information through Bayes’ theorem. This is one of the great strengths of Bayesian analysis.\n",
    "\n",
    "  * For data with a small signal-to-noise ratio, a Bayesian analysis can frequently yield many orders of magnitude improvement in model parameter estimation, through the incorporation of relevant prior information about the signal model.\n",
    "\n",
    "\n",
    "4. Provides a way of eliminating nuisance parameters through marginalization. For some problems, the marginalization can be performed analytically, permitting certain calculations to become computationally tractable.\n",
    "\n",
    "5. Provides a way for incorporating the effects of systematic errors arising from both the measurement operation and theoretical model predictions.\n",
    "\n",
    "6. Calculates probability of hypothesis directly: $p(H_i|D, I)$.\n",
    "\n",
    "7. Provides a more powerful way of assessing competing theories at the forefront of science by automatically quantifying Occam’s razor.\n",
    "\n",
    "\n",
    "The Bayesian quantitative Occam’s razor can also save a lot of time that might otherwise be spent chasing noise artifacts that masquerade as possible detections of real phenomena.\n",
    "\n",
    "### Occam's razor\n",
    "\n",
    "Occam’s razor is a principle attributed to the medieval philosopher William of Occam (or Ockham). The principle states that one should not make more assumptions than the minimum needed. It underlies all scientific modeling and theory building. It cautions us to choose from a set of otherwise equivalent models of a given phenomenon the simplest one. In any given model, Occam’s razor helps us to \"shave off\" those variables that are not really needed to explain the phenomenon. It was previously thought to be only a qualitative principle.\n",
    "\n",
    "<!-- dom:FIGURE: [fig/Leprechaun_or_Clurichaun.png, width=500 frac=0.7] Did the Leprechaun drink your wine, or is there a simpler explanation? -->\n",
    "<!-- begin figure -->\n",
    "\n",
    "<p>Did the Leprechaun drink your wine, or is there a simpler explanation?</p>\n",
    "<img src=\"fig/Leprechaun_or_Clurichaun.png\" width=500>\n",
    "\n",
    "<!-- end figure -->\n",
    "\n",
    "\n",
    "## Nuisance parameters (I)\n",
    "See demonstration notebook: A Bayesian Billiard game\n",
    "\n",
    "## Nuisance parameters (II): marginal distributions\n",
    "Assume that we have a model with two parameters, $\\theta0,\\theta_1$, although only one of them (say $\\theta_1$) is of physical relevance (the other one is a nuisance parameter). Through a Bayesian data analysis we have the joint, posterior pdf"
   ]
  },
  {
   "cell_type": "markdown",
   "metadata": {},
   "source": [
    "$$\n",
    "p(\\theta_0, \\theta_1 | D, I).\n",
    "$$"
   ]
  },
  {
   "cell_type": "markdown",
   "metadata": {},
   "source": [
    "The marginal posterior pdf $p(\\theta_1 | D, I)$ is obtained via marginalization"
   ]
  },
  {
   "cell_type": "markdown",
   "metadata": {},
   "source": [
    "$$\n",
    "p(\\theta_1 | D, I) = \\int p(\\theta_0, \\theta_1 | D, I) d\\theta_0.\n",
    "$$"
   ]
  },
  {
   "cell_type": "markdown",
   "metadata": {},
   "source": [
    "Assume that we have $N$ samples from the joint pdf. This might be the Markov Chain from an MCMC sampler: $\\left\\{ (\\theta_0, \\theta_1)_i \\right\\}_{i=0}^{N-1}$. Then the marginal distribution of $\\theta_1$ will be given by the same chain by simply ignoring the $\\theta_0$ column, i.e., $\\left\\{ \\theta_{1,i} \\right\\}_{i=0}^{N-1}$. \n",
    "\n",
    "See the interactive demos created by Chi Feng for an illustration of this: [The Markov-chain Monte Carlo Interactive Gallery](https://chi-feng.github.io/mcmc-demo/).\n",
    "\n",
    "## Error propagation (I): marginalization\n",
    "The Bayesian approach offers a straight-forward approach for dealing with (known) systematic uncertainties; namely by marginalization. Let us demonstrate this with an example \n",
    "\n",
    "**Inferring galactic distances with an imprecise knowledge of the Hubble constant**\n",
    "The Hubble constant acts as a galactic ruler as it is used to measure astronomical distances according to $v = H_0 x$. An error in this ruler will therefore correspond to a systematic uncertainty in such measurements.\n",
    "\n",
    "Here we use marginalization to obtain the desired posterior pdf $p(x|D,I)$ from the joint distribution of $p(x,H_0|D,I)$"
   ]
  },
  {
   "cell_type": "markdown",
   "metadata": {},
   "source": [
    "<!-- Equation labels as ordinary links -->\n",
    "<div id=\"eq:marginalization\"></div>\n",
    "\n",
    "$$\n",
    "\\begin{equation}\n",
    "p(x|D,I) = \\int_{-\\infty}^\\infty dH_0 p(x,H_0|D,I).\n",
    "\\label{eq:marginalization} \\tag{1}\n",
    "\\end{equation}\n",
    "$$"
   ]
  },
  {
   "cell_type": "markdown",
   "metadata": {},
   "source": [
    "Using Bayes' rule: $p(x,H_0|D,I) \\propto p(D|x,H_0,I) p(x,H_0|I)$, the product rule: $p(x,H_0|I) = p(H_0|x,I)p(x|I)$, and the fact that $H_0$ is independent of $x$: $p(H_0|x,I) = p(H_0|I)$, we find that"
   ]
  },
  {
   "cell_type": "markdown",
   "metadata": {},
   "source": [
    "$$\n",
    "p(x|D,I) \\propto p(x|I) \\int dH_0 p(H_0|I) p(D|x,H_0,I),\n",
    "$$"
   ]
  },
  {
   "cell_type": "markdown",
   "metadata": {},
   "source": [
    "which means that we have expressed the quantity that we want (the posterior of $x$) in terms of quantities that we know.\n",
    "\n",
    "Assume that the pdf $p(H_0 | I)$ is known via its $N$ samples $\\{H_{i}\\}_{i=0}^{N-1}$ generated by the MCMC sampler.\n",
    "\n",
    "This means that we can approximate"
   ]
  },
  {
   "cell_type": "markdown",
   "metadata": {},
   "source": [
    "$$\n",
    "p(x |D,I) \\propto \\int dH_0 p(H_0|I) p(D|x,H_0,I) \\approx \\frac{1}{N} \\sum_{i=1}^N p(D | x, H_i, I)\n",
    "$$"
   ]
  },
  {
   "cell_type": "markdown",
   "metadata": {},
   "source": [
    "where we have used a uniform prior for the distance $p(x|I) \\propto 1$.\n",
    "\n",
    "\n",
    "## Error propagation (II): changing variables and prior information\n",
    "(Based on Sivia, ch 3.6.)\n",
    "\n",
    "Assume that we have measured parameter $X = 10 \\pm 3$ and $Y=7 \\pm 2$; what can we say about the difference $X-Y$ or the raio $X/Y$, or the sum of their squares $X^2+Y^2$, etc? In essence, the problem is nothing more than an exercise in the change of variables: given the joint pdf $p(X,Y|I)$, where the information $I$ might include the data if the pdf is a posterior from a data analysis, we need the corresponding pdf $p(Z|I)$, where $Z=X-Y$, or $Z=X/Y$, or whatever as appropriate.\n",
    "\n",
    "Let us start with a single variable $X$ and a function $Y=f(X)$. How is $p(X|I)$ related to $p(Y|I)$?\n",
    "\n",
    "Consider a point $X^*$ and a small interval $\\delta X$ around it. The probability that $X$ lies within that interval can be written"
   ]
  },
  {
   "cell_type": "markdown",
   "metadata": {},
   "source": [
    "$$\n",
    "p \\left( X^* - \\frac{\\delta X}{2} \\le X < X^* + \\frac{\\delta X}{2} \\big| I \\right) \n",
    "\\approx p(X=X^*|I) \\delta X.\n",
    "$$"
   ]
  },
  {
   "cell_type": "markdown",
   "metadata": {},
   "source": [
    "Assume now that the function $f$ will map the point $X=X^*$ uniquely onto $Y=Y^*=f(X^*)$. Then there must be an interval $\\delta Y$ around $Y^*$ so that the probability is conserved"
   ]
  },
  {
   "cell_type": "markdown",
   "metadata": {},
   "source": [
    "$$\n",
    "p(X=X^*|I) \\delta X = p(Y=Y^*|I) \\delta Y.\n",
    "$$"
   ]
  },
  {
   "cell_type": "markdown",
   "metadata": {},
   "source": [
    "In the limit of infinitesimally small intervals, and with the realization that this should be true for any point $X$, we obtain the relationship"
   ]
  },
  {
   "cell_type": "markdown",
   "metadata": {},
   "source": [
    "<!-- Equation labels as ordinary links -->\n",
    "<div id=\"eq:transformation\"></div>\n",
    "\n",
    "$$\n",
    "\\begin{equation}\n",
    "p(X|I) = p(Y=Y|I) \\left| \\frac{dY}{dX} \\right|,\n",
    "\\label{eq:transformation} \\tag{2}\n",
    "\\end{equation}\n",
    "$$"
   ]
  },
  {
   "cell_type": "markdown",
   "metadata": {},
   "source": [
    "where the term on the far right is called the *Jacobian*.\n",
    "\n",
    "The generalization to several variables, relating the pdf for $M$ variables $\\{ X_j \\}$ in terms of the same number of quantities $\\{ Y_j \\}$ related to them, is"
   ]
  },
  {
   "cell_type": "markdown",
   "metadata": {},
   "source": [
    "<!-- Equation labels as ordinary links -->\n",
    "<div id=\"eq:multivariate-transformation\"></div>\n",
    "\n",
    "$$\n",
    "\\begin{equation}\n",
    "p(\\{X_j\\}|I) = p(\\{Y_j\\}|I) \\left| \\frac{\\partial (Y_1, Y_2, \\ldots, Y_M)}{\\partial (X_1, X_2, \\ldots, X_M)} \\right|,\n",
    "\\label{eq:multivariate-transformation} \\tag{3}\n",
    "\\end{equation}\n",
    "$$"
   ]
  },
  {
   "cell_type": "markdown",
   "metadata": {},
   "source": [
    "where the multivariate Jacobian is given by the determinant of the $M \\times M$ matrix of partial derivatives $\\partial Y_i / \\partial X_j$.\n",
    "\n",
    "**Summary.**\n",
    "\n",
    "We have now seen the basic ingredients required for the propagation of errors: it either involves a transformation in the sense of Eq. ([3](#eq:multivariate-transformation)) or an integration as in Eq. ([1](#eq:marginalization)).\n",
    "\n",
    "\n",
    "\n",
    "### A useful short cut\n",
    "\n",
    "For practical purposes, we are often satisfied to approximate pdfs with Gaussians. Within such limits there is an easier method that is often used for error propagation. Note, however, that there are instances when this method fails miserably as will be shown in the example further down.\n",
    "\n",
    "Suppose that we have summarized the pdfs $p(X|I)$ and $p(Y|I)$ as two Gaussians with mean and standard deviation $x_0, \\sigma_x$ and $y_0, \\sigma_y$, respectively. Assume further that these two variables are not correlated, i.e., $p(X,Y|I) = p(X|I) p(Y|I)$.\n",
    "\n",
    "Suppose now that we are interested in $Z=X-Y$. Intuitively, we might guess that the best estimate $z_0 = x_0 - y_0$, but the error bar $\\sigma_z$ requires some more thought. Differentiate the relation"
   ]
  },
  {
   "cell_type": "markdown",
   "metadata": {},
   "source": [
    "$$\n",
    "\\delta Z = \\delta X - \\delta Y.\n",
    "$$"
   ]
  },
  {
   "cell_type": "markdown",
   "metadata": {},
   "source": [
    "Square both sides and integrate to get the expectation value"
   ]
  },
  {
   "cell_type": "markdown",
   "metadata": {},
   "source": [
    "$$\n",
    "\\langle \\delta Z^2 \\rangle = \\langle \\delta X^2 + \\delta Y^2 - 2 \\delta x \\delta Y \\rangle = \\langle \\delta X^2 \\rangle + \\langle  \\delta Y^2 \\rangle - 2 \\langle \\delta X \\delta Y \\rangle,\n",
    "$$"
   ]
  },
  {
   "cell_type": "markdown",
   "metadata": {},
   "source": [
    "where we have employed the linear property for an integral over a sum of terms.\n",
    "\n",
    "Since we assumed that the pdfs for $X$ and $Y$ were described by independent Gaussians we have"
   ]
  },
  {
   "cell_type": "markdown",
   "metadata": {},
   "source": [
    "<!-- Equation labels as ordinary links -->\n",
    "<div id=\"eq:stddev\"></div>\n",
    "\n",
    "$$\n",
    "\\begin{equation}\n",
    "\\langle \\delta X^2 \\rangle = \\sigma_x^2; \\qquad \\langle \\delta Y^2 \\rangle = \\sigma_y^2; \\qquad \\langle \\delta X \\delta Y \\rangle = 0,\n",
    "\\label{eq:stddev} \\tag{4}\n",
    "\\end{equation}\n",
    "$$"
   ]
  },
  {
   "cell_type": "markdown",
   "metadata": {},
   "source": [
    "and we find that"
   ]
  },
  {
   "cell_type": "markdown",
   "metadata": {},
   "source": [
    "$$\n",
    "\\sigma_z = \\sqrt{ \\langle \\delta Z^2 \\rangle } = \\sqrt{ \\sigma_x^2 + \\sigma_y^2 }.\n",
    "$$"
   ]
  },
  {
   "cell_type": "markdown",
   "metadata": {},
   "source": [
    "Consider, as a second example, the ratio of two parameters $Z = X/Y$. Differentiation gives"
   ]
  },
  {
   "cell_type": "markdown",
   "metadata": {},
   "source": [
    "$$\n",
    "\\delta Z = \\frac{Y \\delta X - X \\delta Y}{Y^2} \\quad \\Leftrightarrow \\quad \\frac{\\delta Z}{Z} = \\frac{\\delta X}{X} - \\frac{\\delta Y}{Y}.\n",
    "$$"
   ]
  },
  {
   "cell_type": "markdown",
   "metadata": {},
   "source": [
    "Squaring both sides and taking the expectation values, we obtain"
   ]
  },
  {
   "cell_type": "markdown",
   "metadata": {},
   "source": [
    "$$\n",
    "\\frac{\\langle \\delta Z^2 \\rangle}{z_0^2} = \\frac{\\langle \\delta X^2 \\rangle}{x_0^2} + \\frac{\\langle \\delta Y^2 \\rangle}{y_0^2} - 2 \\frac{\\langle \\delta X \\rangle \\langle \\delta ZY \\rangle}{x_0 y_0},\n",
    "$$"
   ]
  },
  {
   "cell_type": "markdown",
   "metadata": {},
   "source": [
    "where the $X$, $Y$ and $Z$ in the denominator have been replaced by the constants $x_0$, $y_0$ and $z_0 = x_0 / y_0$ because we are interested in deviations from the peak of the pdf.\n",
    "\n",
    "Finally, substituting the information for the pdfs of $X$ and $Y$ as summarized in Eq. ([4](#eq:stddev)) we finally obtain the propagated error for the ratio"
   ]
  },
  {
   "cell_type": "markdown",
   "metadata": {},
   "source": [
    "$$\n",
    "\\frac{\\sigma_z}{z_0} = \\sqrt{ \\left( \\frac{\\sigma_x}{x_0} \\right)^2 + \\left( \\frac{\\sigma_y}{y_0} \\right)^2}.\n",
    "$$"
   ]
  },
  {
   "cell_type": "markdown",
   "metadata": {},
   "source": [
    "Despite its virtues, let us end our discussion of error-propagation with a salutary warning against the blind use of this nifty short cut.\n",
    "\n",
    "\n",
    "### Example: Taking the square root of a number\n",
    "\n",
    "(Example 3.6.2 in Sivia)\n",
    "\n",
    "* Assume that the amplitude of a Bragg peak is measured with an uncertainty $A = A_0 \\pm \\sigma_A$ from a least-squares fit to experimental data.\n",
    "\n",
    "* The Bragg peak amplitude is proportional to the square of a complex structure function: $A = |F|^2 \\equiv f^2$.\n",
    "\n",
    "* What is $f = f_0 \\pm \\sigma_f$?\n",
    "\n",
    "Obviously, we have that $f_0 = \\sqrt{A_0}$. Differentiate the relation, square and take the expectation value"
   ]
  },
  {
   "cell_type": "markdown",
   "metadata": {},
   "source": [
    "$$\n",
    "\\langle \\delta A^2 \\rangle = 4 f_0^2 \\langle \\delta f^2 \\rangle \\quad \n",
    "\\Leftrightarrow \\quad \n",
    "\\sigma_f = \\frac{\\sigma_A}{2 \\sqrt{A_0}},\n",
    "$$"
   ]
  },
  {
   "cell_type": "markdown",
   "metadata": {},
   "source": [
    "where we have used the Gaussian approximation for the pdfs.\n",
    "\n",
    "But what happens if the best fit gives $A_0 < 0$, which would not be impossible if we have weak and strongly overlapping peaks. The above equation obviously does not work since $f_0$ would be a complex number.\n",
    "\n",
    "We have made two mistakes:\n",
    "1. Likelihood is not posterior!\n",
    "\n",
    "2. The Gaussian approximation around the peak does not always work.\n",
    "\n",
    "Consider first the best fit of the signal peak. It implies that the likelihood can be approximated by"
   ]
  },
  {
   "cell_type": "markdown",
   "metadata": {},
   "source": [
    "$$\n",
    "p(D | A, I) \\propto \\exp \\left[ -\\frac{(A-A_0)^2}{2\\sigma_A^2} \\right].\n",
    "$$"
   ]
  },
  {
   "cell_type": "markdown",
   "metadata": {},
   "source": [
    "However, the posterior for $A$ is $p(A|D,I) \\propto p(D|A,I) p(A|I)$ and we should use the fact that we know that $A \\ge 0$.\n",
    "\n",
    "We will incorporate this information through a simple step-function prior"
   ]
  },
  {
   "cell_type": "markdown",
   "metadata": {},
   "source": [
    "$$\n",
    "p(A|I) = \\left\\{\n",
    "\\begin{array}{ll}\n",
    "\\frac{1}{A_\\mathrm{max}}, & 0 \\le A \\le A_\\mathrm{max}, \\\\\n",
    "0, & \\mathrm{otherwise}.\n",
    "\\end{array}\n",
    "\\right.\n",
    "$$"
   ]
  },
  {
   "cell_type": "markdown",
   "metadata": {},
   "source": [
    "This implies that the posterior will be a truncated Gaussian, and its maximum will always be above zero.\n",
    "\n",
    "This also implies that we cannot use the Gaussian approximation. Instead we will do the proper calculation using the transformation ([2](#eq:transformation))"
   ]
  },
  {
   "cell_type": "markdown",
   "metadata": {},
   "source": [
    "$$\n",
    "p(f|D,I) = p(A|D,I) \\left| \\frac{dA}{df} \\right| = 2 f p(A|D,I)\n",
    "$$"
   ]
  },
  {
   "cell_type": "markdown",
   "metadata": {},
   "source": [
    "In the end we find the proper Bayesian error propagation given by the pdf"
   ]
  },
  {
   "cell_type": "markdown",
   "metadata": {},
   "source": [
    "$$\n",
    "p(f|D,I) \\propto \\left\\{\n",
    "\\begin{array}{ll}\n",
    "f \\exp \\left[ -\\frac{(A-A_0)^2}{2\\sigma_A^2} \\right], & 0 \\le f \\le \\sqrt{A_\\mathrm{max}}, \\\\\n",
    "0, & \\mathrm{otherwise}.\n",
    "\\end{array}\n",
    "\\right.\n",
    "$$"
   ]
  },
  {
   "cell_type": "markdown",
   "metadata": {},
   "source": [
    "Let us visualize the difference between the Bayesian and the naive error propagation for a few scenarios."
   ]
  },
  {
   "cell_type": "code",
   "execution_count": 1,
   "metadata": {
    "collapsed": false
   },
   "outputs": [],
   "source": [
    "def A_posterior(A,A0,sigA):\n",
    "    pA = np.exp(-(A-A0)**2/(2*sigA**2))\n",
    "    return pA/np.max(pA)\n",
    "\n",
    "# Wrong analysis\n",
    "def f_likelihood(f,A0,sigA):\n",
    "    sigf = sigA / (2*np.sqrt(A0))\n",
    "    pf = np.exp(-(f-np.sqrt(A0))**2/(2*sigf**2))\n",
    "    return pf/np.max(pf)\n",
    "\n",
    "# Correct error propagation\n",
    "def f_posterior(f,A0,sigA):\n",
    "    pf = f*np.exp(-(f**2-A0)**2/(2*sigA**2))\n",
    "    return pf/np.max(pf)"
   ]
  },
  {
   "cell_type": "code",
   "execution_count": 2,
   "metadata": {
    "collapsed": false
   },
   "outputs": [],
   "source": [
    "for (A0,sigA) in [(9,1),(1,9),(-20,9)]:\n",
    "    maxA = max(2*A0,3*sigA)\n",
    "    A_arr = np.linspace(0.01,maxA)\n",
    "    f_arr = np.sqrt(A_arr)\n",
    "    fig,ax=plt.subplots(1,2,figsize=(10,4))\n",
    "    ax[0].plot(A_arr,A_posterior(A_arr,A0,sigA))\n",
    "    ax[1].plot(f_arr,f_posterior(f_arr,A0,sigA),label='Bayesian')\n",
    "    if A0>0:\n",
    "        ax[1].plot(f_arr,f_likelihood(f_arr,A0,sigA),'--',label='Naive')\n",
    "    ax[0].set(xlabel='A',ylabel='p(A|D,I)')\n",
    "    plt.text(0.55,0.8,f'$A={A0}$, $\\sigma_A={sigA}$', transform=ax[0].transAxes,fontsize=16)\n",
    "    ax[1].set(xlabel='f',ylabel='p(f|D,I)')\n",
    "    ax[1].legend(loc='best')\n",
    "    plt.tight_layout()"
   ]
  },
  {
   "cell_type": "markdown",
   "metadata": {},
   "source": [
    "<!-- dom:FIGURE: [fig/error_square_root_9_1.png, width=700 frac=0.7] The left-hand panels show the posterior pdf for the amplitude of a Bragg peak in three different scenarios. The right-hand plots are the corresponding pdfs for the modulus of the structure factor $f=\\sqrt{A}$. The solid lines correspond to a full bayesian error propagation, while the dashed lines are obtained with the short-cut error propagation. -->\n",
    "<!-- begin figure -->\n",
    "\n",
    "<p>The left-hand panels show the posterior pdf for the amplitude of a Bragg peak in three different scenarios. The right-hand plots are the corresponding pdfs for the modulus of the structure factor $f=\\sqrt{A}$. The solid lines correspond to a full bayesian error propagation, while the dashed lines are obtained with the short-cut error propagation.</p>\n",
    "<img src=\"fig/error_square_root_9_1.png\" width=700>\n",
    "\n",
    "<!-- end figure -->\n",
    "\n",
    "\n",
    "<!-- dom:FIGURE: [fig/error_square_root_1_9.png, width=700 frac=0.7] -->\n",
    "<!-- begin figure -->\n",
    "\n",
    "<p></p>\n",
    "<img src=\"fig/error_square_root_1_9.png\" width=700>\n",
    "\n",
    "<!-- end figure -->\n",
    "\n",
    "\n",
    "<!-- dom:FIGURE: [fig/error_square_root_-20_9.png, width=700 frac=0.7]  -->\n",
    "<!-- begin figure -->\n",
    "\n",
    "<p></p>\n",
    "<img src=\"fig/error_square_root_-20_9.png\" width=700>\n",
    "\n",
    "<!-- end figure -->"
   ]
  }
 ],
 "metadata": {},
 "nbformat": 4,
 "nbformat_minor": 2
}
